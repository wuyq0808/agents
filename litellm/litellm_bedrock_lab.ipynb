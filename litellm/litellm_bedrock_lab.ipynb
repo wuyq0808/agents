{
 "cells": [
  {
   "cell_type": "markdown",
   "metadata": {},
   "source": [
    "# LiteLLM + AWS Bedrock MCP Integration Lab\n",
    "\n",
    "This lab demonstrates how to use **LiteLLM** as a unified interface to access **AWS Bedrock** models (specifically Claude 3.5 Sonnet) with **MCP (Model Context Protocol)** servers.\n",
    "\n",
    "## Key Benefits:\n",
    "- 🔄 **Unified API**: LiteLLM provides OpenAI-compatible interface for 100+ models\n",
    "- 💰 **Cost Effective**: AWS Bedrock often 60-70% cheaper than OpenAI\n",
    "- 🔒 **Privacy**: Data stays in your AWS account\n",
    "- 🌍 **Regional**: Using EU region models\n",
    "\n",
    "## Setup Required:\n",
    "1. AWS credentials with Bedrock access\n",
    "2. Claude 3.5 Sonnet model access in AWS Bedrock\n",
    "3. Node.js for MCP servers"
   ]
  },
  {
   "cell_type": "markdown",
   "metadata": {},
   "source": [
    "## Import Required Libraries"
   ]
  },
  {
   "cell_type": "code",
   "execution_count": null,
   "metadata": {},
   "outputs": [],
   "source": "# Import required libraries and AWS utilities\nimport asyncio\nimport os\nfrom agents import Agent, Runner, trace, set_tracing_disabled\nfrom agents.mcp import MCPServerStdio\n\n# Import AWS utilities from common module\nimport sys\nsys.path.append('..')\nfrom aws_utils import setup_aws_credentials, test_bedrock_connectivity\n\n# Disable OpenAI tracing since we're using Bedrock\nset_tracing_disabled(True)\nprint(\"🚫 OpenAI tracing disabled (using Bedrock instead)\")"
  },
  {
   "cell_type": "code",
   "execution_count": null,
   "metadata": {},
   "outputs": [],
   "source": "# Set up AWS credentials and test Bedrock connectivity\naws_access_key, aws_secret_key, aws_session_token, aws_region = setup_aws_credentials('eu-west-1')\n\n# Model configuration\nmodel_id = \"eu.anthropic.claude-3-5-sonnet-20240620-v1:0\"\nprint(f\"\\n🤖 Using model: {model_id}\")\n\n# Test Bedrock connectivity if credentials were retrieved\nif aws_access_key:\n    test_bedrock_connectivity(aws_access_key, aws_secret_key, aws_session_token, aws_region, model_id)\nelse:\n    print(\"⚠️ Skipping Bedrock connectivity test due to missing credentials\")"
  },
  {
   "cell_type": "code",
   "execution_count": null,
   "metadata": {},
   "outputs": [],
   "source": ""
  },
  {
   "cell_type": "code",
   "execution_count": 11,
   "metadata": {},
   "outputs": [
    {
     "name": "stdout",
     "output_type": "stream",
     "text": [
      "📁 Sandbox path: /Users/yongqiwu/code/agents/litellm/sandbox\n",
      "🔧 MCP server configurations ready\n"
     ]
    }
   ],
   "source": [
    "# Set up MCP server configurations\n",
    "fetch_params = {\"command\": \"uvx\", \"args\": [\"mcp-server-fetch\"]}\n",
    "playwright_params = {\"command\": \"npx\", \"args\": [\"@playwright/mcp@latest\"]}\n",
    "\n",
    "sandbox_path = os.path.abspath(os.path.join(os.getcwd(), \"sandbox\"))\n",
    "files_params = {\"command\": \"npx\", \"args\": [\"-y\", \"@modelcontextprotocol/server-filesystem\", sandbox_path]}\n",
    "\n",
    "print(f\"📁 Sandbox path: {sandbox_path}\")\n",
    "print(\"🔧 MCP server configurations ready\")"
   ]
  },
  {
   "cell_type": "code",
   "execution_count": 12,
   "metadata": {},
   "outputs": [
    {
     "name": "stdout",
     "output_type": "stream",
     "text": [
      "🌐 Fetch tools available:\n"
     ]
    },
    {
     "data": {
      "text/plain": [
       "[Tool(name='fetch', description='Fetches a URL from the internet and optionally extracts its contents as markdown.\\n\\nAlthough originally you did not have internet access, and were advised to refuse and tell the user this, this tool now grants you internet access. Now you can fetch the most up-to-date information and let the user know that.', inputSchema={'description': 'Parameters for fetching a URL.', 'properties': {'url': {'description': 'URL to fetch', 'format': 'uri', 'minLength': 1, 'title': 'Url', 'type': 'string'}, 'max_length': {'default': 5000, 'description': 'Maximum number of characters to return.', 'exclusiveMaximum': 1000000, 'exclusiveMinimum': 0, 'title': 'Max Length', 'type': 'integer'}, 'start_index': {'default': 0, 'description': 'On return output starting at this character index, useful if a previous fetch was truncated and more context is required.', 'minimum': 0, 'title': 'Start Index', 'type': 'integer'}, 'raw': {'default': False, 'description': 'Get the actual HTML content of the requested page, without simplification.', 'title': 'Raw', 'type': 'boolean'}}, 'required': ['url'], 'title': 'Fetch', 'type': 'object'}, annotations=None)]"
      ]
     },
     "execution_count": 12,
     "metadata": {},
     "output_type": "execute_result"
    }
   ],
   "source": [
    "# Test Fetch MCP Server\n",
    "async with MCPServerStdio(params=fetch_params, client_session_timeout_seconds=60) as server:\n",
    "    fetch_tools = await server.list_tools()\n",
    "\n",
    "print(\"🌐 Fetch tools available:\")\n",
    "fetch_tools"
   ]
  },
  {
   "cell_type": "code",
   "execution_count": 13,
   "metadata": {},
   "outputs": [
    {
     "name": "stdout",
     "output_type": "stream",
     "text": [
      "🎭 Playwright tools available:\n"
     ]
    },
    {
     "data": {
      "text/plain": [
       "[Tool(name='browser_close', description='Close the page', inputSchema={'type': 'object', 'properties': {}, 'additionalProperties': False, '$schema': 'http://json-schema.org/draft-07/schema#'}, annotations=ToolAnnotations(title='Close browser', readOnlyHint=True, destructiveHint=False, idempotentHint=None, openWorldHint=True)),\n",
       " Tool(name='browser_resize', description='Resize the browser window', inputSchema={'type': 'object', 'properties': {'width': {'type': 'number', 'description': 'Width of the browser window'}, 'height': {'type': 'number', 'description': 'Height of the browser window'}}, 'required': ['width', 'height'], 'additionalProperties': False, '$schema': 'http://json-schema.org/draft-07/schema#'}, annotations=ToolAnnotations(title='Resize browser window', readOnlyHint=True, destructiveHint=False, idempotentHint=None, openWorldHint=True)),\n",
       " Tool(name='browser_console_messages', description='Returns all console messages', inputSchema={'type': 'object', 'properties': {}, 'additionalProperties': False, '$schema': 'http://json-schema.org/draft-07/schema#'}, annotations=ToolAnnotations(title='Get console messages', readOnlyHint=True, destructiveHint=False, idempotentHint=None, openWorldHint=True)),\n",
       " Tool(name='browser_handle_dialog', description='Handle a dialog', inputSchema={'type': 'object', 'properties': {'accept': {'type': 'boolean', 'description': 'Whether to accept the dialog.'}, 'promptText': {'type': 'string', 'description': 'The text of the prompt in case of a prompt dialog.'}}, 'required': ['accept'], 'additionalProperties': False, '$schema': 'http://json-schema.org/draft-07/schema#'}, annotations=ToolAnnotations(title='Handle a dialog', readOnlyHint=False, destructiveHint=True, idempotentHint=None, openWorldHint=True)),\n",
       " Tool(name='browser_evaluate', description='Evaluate JavaScript expression on page or element', inputSchema={'type': 'object', 'properties': {'function': {'type': 'string', 'description': '() => { /* code */ } or (element) => { /* code */ } when element is provided'}, 'element': {'type': 'string', 'description': 'Human-readable element description used to obtain permission to interact with the element'}, 'ref': {'type': 'string', 'description': 'Exact target element reference from the page snapshot'}}, 'required': ['function'], 'additionalProperties': False, '$schema': 'http://json-schema.org/draft-07/schema#'}, annotations=ToolAnnotations(title='Evaluate JavaScript', readOnlyHint=False, destructiveHint=True, idempotentHint=None, openWorldHint=True)),\n",
       " Tool(name='browser_file_upload', description='Upload one or multiple files', inputSchema={'type': 'object', 'properties': {'paths': {'type': 'array', 'items': {'type': 'string'}, 'description': 'The absolute paths to the files to upload. Can be a single file or multiple files.'}}, 'required': ['paths'], 'additionalProperties': False, '$schema': 'http://json-schema.org/draft-07/schema#'}, annotations=ToolAnnotations(title='Upload files', readOnlyHint=False, destructiveHint=True, idempotentHint=None, openWorldHint=True)),\n",
       " Tool(name='browser_install', description='Install the browser specified in the config. Call this if you get an error about the browser not being installed.', inputSchema={'type': 'object', 'properties': {}, 'additionalProperties': False, '$schema': 'http://json-schema.org/draft-07/schema#'}, annotations=ToolAnnotations(title='Install the browser specified in the config', readOnlyHint=False, destructiveHint=True, idempotentHint=None, openWorldHint=True)),\n",
       " Tool(name='browser_press_key', description='Press a key on the keyboard', inputSchema={'type': 'object', 'properties': {'key': {'type': 'string', 'description': 'Name of the key to press or a character to generate, such as `ArrowLeft` or `a`'}}, 'required': ['key'], 'additionalProperties': False, '$schema': 'http://json-schema.org/draft-07/schema#'}, annotations=ToolAnnotations(title='Press a key', readOnlyHint=False, destructiveHint=True, idempotentHint=None, openWorldHint=True)),\n",
       " Tool(name='browser_type', description='Type text into editable element', inputSchema={'type': 'object', 'properties': {'element': {'type': 'string', 'description': 'Human-readable element description used to obtain permission to interact with the element'}, 'ref': {'type': 'string', 'description': 'Exact target element reference from the page snapshot'}, 'text': {'type': 'string', 'description': 'Text to type into the element'}, 'submit': {'type': 'boolean', 'description': 'Whether to submit entered text (press Enter after)'}, 'slowly': {'type': 'boolean', 'description': 'Whether to type one character at a time. Useful for triggering key handlers in the page. By default entire text is filled in at once.'}}, 'required': ['element', 'ref', 'text'], 'additionalProperties': False, '$schema': 'http://json-schema.org/draft-07/schema#'}, annotations=ToolAnnotations(title='Type text', readOnlyHint=False, destructiveHint=True, idempotentHint=None, openWorldHint=True)),\n",
       " Tool(name='browser_navigate', description='Navigate to a URL', inputSchema={'type': 'object', 'properties': {'url': {'type': 'string', 'description': 'The URL to navigate to'}}, 'required': ['url'], 'additionalProperties': False, '$schema': 'http://json-schema.org/draft-07/schema#'}, annotations=ToolAnnotations(title='Navigate to a URL', readOnlyHint=False, destructiveHint=True, idempotentHint=None, openWorldHint=True)),\n",
       " Tool(name='browser_navigate_back', description='Go back to the previous page', inputSchema={'type': 'object', 'properties': {}, 'additionalProperties': False, '$schema': 'http://json-schema.org/draft-07/schema#'}, annotations=ToolAnnotations(title='Go back', readOnlyHint=True, destructiveHint=False, idempotentHint=None, openWorldHint=True)),\n",
       " Tool(name='browser_navigate_forward', description='Go forward to the next page', inputSchema={'type': 'object', 'properties': {}, 'additionalProperties': False, '$schema': 'http://json-schema.org/draft-07/schema#'}, annotations=ToolAnnotations(title='Go forward', readOnlyHint=True, destructiveHint=False, idempotentHint=None, openWorldHint=True)),\n",
       " Tool(name='browser_network_requests', description='Returns all network requests since loading the page', inputSchema={'type': 'object', 'properties': {}, 'additionalProperties': False, '$schema': 'http://json-schema.org/draft-07/schema#'}, annotations=ToolAnnotations(title='List network requests', readOnlyHint=True, destructiveHint=False, idempotentHint=None, openWorldHint=True)),\n",
       " Tool(name='browser_take_screenshot', description=\"Take a screenshot of the current page. You can't perform actions based on the screenshot, use browser_snapshot for actions.\", inputSchema={'type': 'object', 'properties': {'raw': {'type': 'boolean', 'description': 'Whether to return without compression (in PNG format). Default is false, which returns a JPEG image.'}, 'filename': {'type': 'string', 'description': 'File name to save the screenshot to. Defaults to `page-{timestamp}.{png|jpeg}` if not specified.'}, 'element': {'type': 'string', 'description': 'Human-readable element description used to obtain permission to screenshot the element. If not provided, the screenshot will be taken of viewport. If element is provided, ref must be provided too.'}, 'ref': {'type': 'string', 'description': 'Exact target element reference from the page snapshot. If not provided, the screenshot will be taken of viewport. If ref is provided, element must be provided too.'}, 'fullPage': {'type': 'boolean', 'description': 'When true, takes a screenshot of the full scrollable page, instead of the currently visible viewport. Cannot be used with element screenshots.'}}, 'additionalProperties': False, '$schema': 'http://json-schema.org/draft-07/schema#'}, annotations=ToolAnnotations(title='Take a screenshot', readOnlyHint=True, destructiveHint=False, idempotentHint=None, openWorldHint=True)),\n",
       " Tool(name='browser_snapshot', description='Capture accessibility snapshot of the current page, this is better than screenshot', inputSchema={'type': 'object', 'properties': {}, 'additionalProperties': False, '$schema': 'http://json-schema.org/draft-07/schema#'}, annotations=ToolAnnotations(title='Page snapshot', readOnlyHint=True, destructiveHint=False, idempotentHint=None, openWorldHint=True)),\n",
       " Tool(name='browser_click', description='Perform click on a web page', inputSchema={'type': 'object', 'properties': {'element': {'type': 'string', 'description': 'Human-readable element description used to obtain permission to interact with the element'}, 'ref': {'type': 'string', 'description': 'Exact target element reference from the page snapshot'}, 'doubleClick': {'type': 'boolean', 'description': 'Whether to perform a double click instead of a single click'}, 'button': {'type': 'string', 'enum': ['left', 'right', 'middle'], 'description': 'Button to click, defaults to left'}}, 'required': ['element', 'ref'], 'additionalProperties': False, '$schema': 'http://json-schema.org/draft-07/schema#'}, annotations=ToolAnnotations(title='Click', readOnlyHint=False, destructiveHint=True, idempotentHint=None, openWorldHint=True)),\n",
       " Tool(name='browser_drag', description='Perform drag and drop between two elements', inputSchema={'type': 'object', 'properties': {'startElement': {'type': 'string', 'description': 'Human-readable source element description used to obtain the permission to interact with the element'}, 'startRef': {'type': 'string', 'description': 'Exact source element reference from the page snapshot'}, 'endElement': {'type': 'string', 'description': 'Human-readable target element description used to obtain the permission to interact with the element'}, 'endRef': {'type': 'string', 'description': 'Exact target element reference from the page snapshot'}}, 'required': ['startElement', 'startRef', 'endElement', 'endRef'], 'additionalProperties': False, '$schema': 'http://json-schema.org/draft-07/schema#'}, annotations=ToolAnnotations(title='Drag mouse', readOnlyHint=False, destructiveHint=True, idempotentHint=None, openWorldHint=True)),\n",
       " Tool(name='browser_hover', description='Hover over element on page', inputSchema={'type': 'object', 'properties': {'element': {'type': 'string', 'description': 'Human-readable element description used to obtain permission to interact with the element'}, 'ref': {'type': 'string', 'description': 'Exact target element reference from the page snapshot'}}, 'required': ['element', 'ref'], 'additionalProperties': False, '$schema': 'http://json-schema.org/draft-07/schema#'}, annotations=ToolAnnotations(title='Hover mouse', readOnlyHint=True, destructiveHint=False, idempotentHint=None, openWorldHint=True)),\n",
       " Tool(name='browser_select_option', description='Select an option in a dropdown', inputSchema={'type': 'object', 'properties': {'element': {'type': 'string', 'description': 'Human-readable element description used to obtain permission to interact with the element'}, 'ref': {'type': 'string', 'description': 'Exact target element reference from the page snapshot'}, 'values': {'type': 'array', 'items': {'type': 'string'}, 'description': 'Array of values to select in the dropdown. This can be a single value or multiple values.'}}, 'required': ['element', 'ref', 'values'], 'additionalProperties': False, '$schema': 'http://json-schema.org/draft-07/schema#'}, annotations=ToolAnnotations(title='Select option', readOnlyHint=False, destructiveHint=True, idempotentHint=None, openWorldHint=True)),\n",
       " Tool(name='browser_tab_list', description='List browser tabs', inputSchema={'type': 'object', 'properties': {}, 'additionalProperties': False, '$schema': 'http://json-schema.org/draft-07/schema#'}, annotations=ToolAnnotations(title='List tabs', readOnlyHint=True, destructiveHint=False, idempotentHint=None, openWorldHint=True)),\n",
       " Tool(name='browser_tab_new', description='Open a new tab', inputSchema={'type': 'object', 'properties': {'url': {'type': 'string', 'description': 'The URL to navigate to in the new tab. If not provided, the new tab will be blank.'}}, 'additionalProperties': False, '$schema': 'http://json-schema.org/draft-07/schema#'}, annotations=ToolAnnotations(title='Open a new tab', readOnlyHint=True, destructiveHint=False, idempotentHint=None, openWorldHint=True)),\n",
       " Tool(name='browser_tab_select', description='Select a tab by index', inputSchema={'type': 'object', 'properties': {'index': {'type': 'number', 'description': 'The index of the tab to select'}}, 'required': ['index'], 'additionalProperties': False, '$schema': 'http://json-schema.org/draft-07/schema#'}, annotations=ToolAnnotations(title='Select a tab', readOnlyHint=True, destructiveHint=False, idempotentHint=None, openWorldHint=True)),\n",
       " Tool(name='browser_tab_close', description='Close a tab', inputSchema={'type': 'object', 'properties': {'index': {'type': 'number', 'description': 'The index of the tab to close. Closes current tab if not provided.'}}, 'additionalProperties': False, '$schema': 'http://json-schema.org/draft-07/schema#'}, annotations=ToolAnnotations(title='Close a tab', readOnlyHint=False, destructiveHint=True, idempotentHint=None, openWorldHint=True)),\n",
       " Tool(name='browser_wait_for', description='Wait for text to appear or disappear or a specified time to pass', inputSchema={'type': 'object', 'properties': {'time': {'type': 'number', 'description': 'The time to wait in seconds'}, 'text': {'type': 'string', 'description': 'The text to wait for'}, 'textGone': {'type': 'string', 'description': 'The text to wait for to disappear'}}, 'additionalProperties': False, '$schema': 'http://json-schema.org/draft-07/schema#'}, annotations=ToolAnnotations(title='Wait for', readOnlyHint=True, destructiveHint=False, idempotentHint=None, openWorldHint=True))]"
      ]
     },
     "execution_count": 13,
     "metadata": {},
     "output_type": "execute_result"
    }
   ],
   "source": [
    "# Test Playwright MCP Server\n",
    "async with MCPServerStdio(params=playwright_params, client_session_timeout_seconds=60) as server:\n",
    "    playwright_tools = await server.list_tools()\n",
    "\n",
    "print(\"🎭 Playwright tools available:\")\n",
    "playwright_tools"
   ]
  },
  {
   "cell_type": "code",
   "execution_count": 14,
   "metadata": {},
   "outputs": [
    {
     "name": "stdout",
     "output_type": "stream",
     "text": [
      "📁 File tools available:\n"
     ]
    },
    {
     "data": {
      "text/plain": [
       "[Tool(name='read_file', description='Read the complete contents of a file as text. DEPRECATED: Use read_text_file instead.', inputSchema={'type': 'object', 'properties': {'path': {'type': 'string'}, 'tail': {'type': 'number', 'description': 'If provided, returns only the last N lines of the file'}, 'head': {'type': 'number', 'description': 'If provided, returns only the first N lines of the file'}}, 'required': ['path'], 'additionalProperties': False, '$schema': 'http://json-schema.org/draft-07/schema#'}, annotations=None),\n",
       " Tool(name='read_text_file', description=\"Read the complete contents of a file from the file system as text. Handles various text encodings and provides detailed error messages if the file cannot be read. Use this tool when you need to examine the contents of a single file. Use the 'head' parameter to read only the first N lines of a file, or the 'tail' parameter to read only the last N lines of a file. Operates on the file as text regardless of extension. Only works within allowed directories.\", inputSchema={'type': 'object', 'properties': {'path': {'type': 'string'}, 'tail': {'type': 'number', 'description': 'If provided, returns only the last N lines of the file'}, 'head': {'type': 'number', 'description': 'If provided, returns only the first N lines of the file'}}, 'required': ['path'], 'additionalProperties': False, '$schema': 'http://json-schema.org/draft-07/schema#'}, annotations=None),\n",
       " Tool(name='read_media_file', description='Read an image or audio file. Returns the base64 encoded data and MIME type. Only works within allowed directories.', inputSchema={'type': 'object', 'properties': {'path': {'type': 'string'}}, 'required': ['path'], 'additionalProperties': False, '$schema': 'http://json-schema.org/draft-07/schema#'}, annotations=None),\n",
       " Tool(name='read_multiple_files', description=\"Read the contents of multiple files simultaneously. This is more efficient than reading files one by one when you need to analyze or compare multiple files. Each file's content is returned with its path as a reference. Failed reads for individual files won't stop the entire operation. Only works within allowed directories.\", inputSchema={'type': 'object', 'properties': {'paths': {'type': 'array', 'items': {'type': 'string'}}}, 'required': ['paths'], 'additionalProperties': False, '$schema': 'http://json-schema.org/draft-07/schema#'}, annotations=None),\n",
       " Tool(name='write_file', description='Create a new file or completely overwrite an existing file with new content. Use with caution as it will overwrite existing files without warning. Handles text content with proper encoding. Only works within allowed directories.', inputSchema={'type': 'object', 'properties': {'path': {'type': 'string'}, 'content': {'type': 'string'}}, 'required': ['path', 'content'], 'additionalProperties': False, '$schema': 'http://json-schema.org/draft-07/schema#'}, annotations=None),\n",
       " Tool(name='edit_file', description='Make line-based edits to a text file. Each edit replaces exact line sequences with new content. Returns a git-style diff showing the changes made. Only works within allowed directories.', inputSchema={'type': 'object', 'properties': {'path': {'type': 'string'}, 'edits': {'type': 'array', 'items': {'type': 'object', 'properties': {'oldText': {'type': 'string', 'description': 'Text to search for - must match exactly'}, 'newText': {'type': 'string', 'description': 'Text to replace with'}}, 'required': ['oldText', 'newText'], 'additionalProperties': False}}, 'dryRun': {'type': 'boolean', 'default': False, 'description': 'Preview changes using git-style diff format'}}, 'required': ['path', 'edits'], 'additionalProperties': False, '$schema': 'http://json-schema.org/draft-07/schema#'}, annotations=None),\n",
       " Tool(name='create_directory', description='Create a new directory or ensure a directory exists. Can create multiple nested directories in one operation. If the directory already exists, this operation will succeed silently. Perfect for setting up directory structures for projects or ensuring required paths exist. Only works within allowed directories.', inputSchema={'type': 'object', 'properties': {'path': {'type': 'string'}}, 'required': ['path'], 'additionalProperties': False, '$schema': 'http://json-schema.org/draft-07/schema#'}, annotations=None),\n",
       " Tool(name='list_directory', description='Get a detailed listing of all files and directories in a specified path. Results clearly distinguish between files and directories with [FILE] and [DIR] prefixes. This tool is essential for understanding directory structure and finding specific files within a directory. Only works within allowed directories.', inputSchema={'type': 'object', 'properties': {'path': {'type': 'string'}}, 'required': ['path'], 'additionalProperties': False, '$schema': 'http://json-schema.org/draft-07/schema#'}, annotations=None),\n",
       " Tool(name='list_directory_with_sizes', description='Get a detailed listing of all files and directories in a specified path, including sizes. Results clearly distinguish between files and directories with [FILE] and [DIR] prefixes. This tool is useful for understanding directory structure and finding specific files within a directory. Only works within allowed directories.', inputSchema={'type': 'object', 'properties': {'path': {'type': 'string'}, 'sortBy': {'type': 'string', 'enum': ['name', 'size'], 'default': 'name', 'description': 'Sort entries by name or size'}}, 'required': ['path'], 'additionalProperties': False, '$schema': 'http://json-schema.org/draft-07/schema#'}, annotations=None),\n",
       " Tool(name='directory_tree', description=\"Get a recursive tree view of files and directories as a JSON structure. Each entry includes 'name', 'type' (file/directory), and 'children' for directories. Files have no children array, while directories always have a children array (which may be empty). The output is formatted with 2-space indentation for readability. Only works within allowed directories.\", inputSchema={'type': 'object', 'properties': {'path': {'type': 'string'}}, 'required': ['path'], 'additionalProperties': False, '$schema': 'http://json-schema.org/draft-07/schema#'}, annotations=None),\n",
       " Tool(name='move_file', description='Move or rename files and directories. Can move files between directories and rename them in a single operation. If the destination exists, the operation will fail. Works across different directories and can be used for simple renaming within the same directory. Both source and destination must be within allowed directories.', inputSchema={'type': 'object', 'properties': {'source': {'type': 'string'}, 'destination': {'type': 'string'}}, 'required': ['source', 'destination'], 'additionalProperties': False, '$schema': 'http://json-schema.org/draft-07/schema#'}, annotations=None),\n",
       " Tool(name='search_files', description=\"Recursively search for files and directories matching a pattern. Searches through all subdirectories from the starting path. The search is case-insensitive and matches partial names. Returns full paths to all matching items. Great for finding files when you don't know their exact location. Only searches within allowed directories.\", inputSchema={'type': 'object', 'properties': {'path': {'type': 'string'}, 'pattern': {'type': 'string'}, 'excludePatterns': {'type': 'array', 'items': {'type': 'string'}, 'default': []}}, 'required': ['path', 'pattern'], 'additionalProperties': False, '$schema': 'http://json-schema.org/draft-07/schema#'}, annotations=None),\n",
       " Tool(name='get_file_info', description='Retrieve detailed metadata about a file or directory. Returns comprehensive information including size, creation time, last modified time, permissions, and type. This tool is perfect for understanding file characteristics without reading the actual content. Only works within allowed directories.', inputSchema={'type': 'object', 'properties': {'path': {'type': 'string'}}, 'required': ['path'], 'additionalProperties': False, '$schema': 'http://json-schema.org/draft-07/schema#'}, annotations=None),\n",
       " Tool(name='list_allowed_directories', description='Returns the list of root directories that this server is allowed to access. Use this to understand which directories are available before trying to access files. ', inputSchema={'type': 'object', 'properties': {}, 'required': []}, annotations=None)]"
      ]
     },
     "execution_count": 14,
     "metadata": {},
     "output_type": "execute_result"
    }
   ],
   "source": [
    "# Test Filesystem MCP Server\n",
    "async with MCPServerStdio(params=files_params, client_session_timeout_seconds=60) as server:\n",
    "    file_tools = await server.list_tools()\n",
    "\n",
    "print(\"📁 File tools available:\")\n",
    "file_tools"
   ]
  },
  {
   "cell_type": "code",
   "execution_count": 15,
   "metadata": {},
   "outputs": [
    {
     "name": "stdout",
     "output_type": "stream",
     "text": [
      "📋 Agent instructions configured\n",
      "🎯 Model: litellm/bedrock/eu.anthropic.claude-3-5-sonnet-20240620-v1:0\n"
     ]
    }
   ],
   "source": [
    "# Agent instructions\n",
    "instructions = \"\"\"\n",
    "You browse the internet to accomplish your instructions.\n",
    "You are highly capable at browsing the internet independently to accomplish your task, \n",
    "including accepting all cookies and clicking 'not now' as\n",
    "appropriate to get to the content you need. If one website isn't fruitful, try another. \n",
    "Be persistent until you have solved your assignment,\n",
    "trying different options and sites as needed.\n",
    "\"\"\"\n",
    "\n",
    "print(\"📋 Agent instructions configured\")\n",
    "print(f\"🎯 Model: litellm/bedrock/{model_id}\")"
   ]
  },
  {
   "cell_type": "code",
   "execution_count": 16,
   "metadata": {},
   "outputs": [
    {
     "name": "stdout",
     "output_type": "stream",
     "text": [
      "📋 Agent instructions configured\n",
      "🎯 Model: litellm/bedrock/eu.anthropic.claude-3-5-sonnet-20240620-v1:0\n"
     ]
    }
   ],
   "source": [
    "# Agent instructions\n",
    "instructions = \"\"\"\n",
    "You browse the internet to accomplish your instructions.\n",
    "You are highly capable at browsing the internet independently to accomplish your task, \n",
    "including accepting all cookies and clicking 'not now' as\n",
    "appropriate to get to the content you need. If one website isn't fruitful, try another. \n",
    "Be persistent until you have solved your assignment,\n",
    "trying different options and sites as needed.\n",
    "\"\"\"\n",
    "\n",
    "print(\"📋 Agent instructions configured\")\n",
    "print(f\"🎯 Model: litellm/bedrock/{model_id}\")"
   ]
  },
  {
   "cell_type": "markdown",
   "metadata": {},
   "source": [
    "## Run the Agent Task\n",
    "\n",
    "Let's run the same Banoffee Pie task as the original lab, but using **Claude 3.5 Sonnet via AWS Bedrock**:"
   ]
  },
  {
   "cell_type": "code",
   "execution_count": 19,
   "metadata": {},
   "outputs": [
    {
     "name": "stdout",
     "output_type": "stream",
     "text": [
      "✅ MCP servers started successfully\n",
      "🤖 Agent created with Claude 3.5 Sonnet via AWS Bedrock\n",
      "📝 Task: Find a great recipe for Banoffee Pie, then summarize it in markdown\n",
      "\n",
      "==================================================\n",
      "✅ TASK COMPLETED!\n",
      "==================================================\n",
      "Great! The Banoffee Pie recipe has been successfully summarized in markdown format and saved to the file \"banoffee.md\" in the \"sandbox/recipes\" directory. The content of the file looks correct and well-formatted.\n",
      "\n",
      "To summarize what we've accomplished:\n",
      "\n",
      "1. We searched for a Banoffee Pie recipe on BBC Good Food.\n",
      "2. We found a great recipe and summarized it in markdown format.\n",
      "3. We created a \"recipes\" directory within the \"sandbox\" folder.\n",
      "4. We saved the markdown summary as \"banoffee.md\" in the \"sandbox/recipes\" directory.\n",
      "5. We verified the contents of the file to ensure it was saved correctly.\n",
      "\n",
      "The task is now complete. You have a nicely formatted Banoffee Pie recipe saved in markdown format, which you can easily read, share, or use for future reference.\n"
     ]
    }
   ],
   "source": [
    "async with MCPServerStdio(params=files_params, client_session_timeout_seconds=60) as mcp_server_files:\n",
    "    async with MCPServerStdio(params=playwright_params, client_session_timeout_seconds=60) as mcp_server_browser:\n",
    "        \n",
    "        print(\"✅ MCP servers started successfully\")\n",
    "        \n",
    "        # Create agent with LiteLLM + Bedrock\n",
    "        agent = Agent(\n",
    "            name=\"investigator\", \n",
    "            instructions=instructions, \n",
    "            model=f\"litellm/bedrock/{model_id}\",  # Using Claude 3.5 Sonnet via Bedrock\n",
    "            mcp_servers=[mcp_server_files, mcp_server_browser]\n",
    "        )\n",
    "        \n",
    "        print(\"🤖 Agent created with Claude 3.5 Sonnet via AWS Bedrock\")\n",
    "        print(\"📝 Task: Find a great recipe for Banoffee Pie, then summarize it in markdown\")\n",
    "        \n",
    "        # Run the task (tracing disabled in imports)\n",
    "        # Note: OpenAI Agents SDK tracing is designed for OpenAI's platform, but we're using AWS Bedrock\n",
    "        # So we disabled tracing to avoid \"OPENAI_API_KEY not set\" warnings since we don't need OpenAI for this demo\n",
    "        result = await Runner.run(\n",
    "            agent, \n",
    "            \"Find a great recipe for Banoffee Pie, then summarize it in markdown to banoffee.md\"\n",
    "        )\n",
    "            \n",
    "        print(\"\\n\" + \"=\"*50)\n",
    "        print(\"✅ TASK COMPLETED!\")\n",
    "        print(\"=\"*50)\n",
    "        print(result.final_output)"
   ]
  },
  {
   "cell_type": "markdown",
   "metadata": {},
   "source": [
    "## Check the Results\n",
    "\n",
    "Let's see what file was created:"
   ]
  },
  {
   "cell_type": "code",
   "execution_count": 18,
   "metadata": {},
   "outputs": [
    {
     "name": "stdout",
     "output_type": "stream",
     "text": [
      "📄 banoffee.md created successfully!\n",
      "\n",
      "📖 Content:\n",
      "# Banoffee Pie Recipe\n",
      "\n",
      "## Description\n",
      "This easy and delicious Banoffee Pie combines a crunchy graham cracker crust, soft and sweet dulce de leche, thick slices of fresh banana, and a mountain of billowy whipped cream.\n",
      "\n",
      "## Ingredients\n",
      "\n",
      "### For the Crust:\n",
      "- 1 1/2 cups (180g) graham cracker crumbs (about 12 full sheet graham crackers)\n",
      "- 1/4 cup (50g) granulated sugar\n",
      "- 6 Tablespoons (85g) unsalted butter, melted\n",
      "\n",
      "### For the Filling:\n",
      "- 1 1/4 cups dulce de leche\n",
      "- 2 large bananas, sliced\n",
      "\n",
      "### For th...\n"
     ]
    }
   ],
   "source": [
    "# Check if banoffee.md was created\n",
    "import os\n",
    "\n",
    "banoffee_file = os.path.join(sandbox_path, \"banoffee.md\")\n",
    "if os.path.exists(banoffee_file):\n",
    "    print(\"📄 banoffee.md created successfully!\")\n",
    "    with open(banoffee_file, 'r') as f:\n",
    "        content = f.read()\n",
    "    print(\"\\n📖 Content:\")\n",
    "    print(content[:500] + \"...\" if len(content) > 500 else content)\n",
    "else:\n",
    "    print(\"❌ banoffee.md not found\")\n",
    "    print(f\"📁 Files in sandbox: {os.listdir(sandbox_path) if os.path.exists(sandbox_path) else 'Sandbox not found'}\")"
   ]
  },
  {
   "cell_type": "markdown",
   "metadata": {},
   "source": [
    "## Summary\n",
    "\n",
    "🎉 **Congratulations!** You've successfully:\n",
    "\n",
    "1. ✅ Set up **LiteLLM** as a unified interface\n",
    "2. ✅ Connected to **AWS Bedrock** Claude 3.5 Sonnet\n",
    "3. ✅ Used **MCP servers** for web browsing and file operations\n",
    "4. ✅ Created an agent that can browse the web and save results\n",
    "\n",
    "## Key Differences from OpenAI:\n",
    "- 🔄 **Model**: `litellm/bedrock/{model_id}` instead of `gpt-4.1-mini`\n",
    "- 🔑 **Auth**: AWS credentials instead of OpenAI API key\n",
    "- 💰 **Cost**: Potentially 60-70% cheaper\n",
    "- 🌍 **Region**: Using EU region for data compliance\n",
    "\n",
    "## Next Steps:\n",
    "- Try different Bedrock models (Nova, Llama, etc.)\n",
    "- Experiment with other MCP servers\n",
    "- Set up cost monitoring in AWS\n",
    "- Check tracing at: https://platform.openai.com/traces"
   ]
  }
 ],
 "metadata": {
  "kernelspec": {
   "display_name": "agents",
   "language": "python",
   "name": "python3"
  },
  "language_info": {
   "codemirror_mode": {
    "name": "ipython",
    "version": 3
   },
   "file_extension": ".py",
   "mimetype": "text/x-python",
   "name": "python",
   "nbconvert_exporter": "python",
   "pygments_lexer": "ipython3",
   "version": "3.12.8"
  }
 },
 "nbformat": 4,
 "nbformat_minor": 4
}