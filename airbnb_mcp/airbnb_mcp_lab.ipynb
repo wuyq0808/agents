{
 "cells": [
  {
   "cell_type": "markdown",
   "metadata": {},
   "source": [
    "# Airbnb MCP + AWS Bedrock Integration Lab\n",
    "\n",
    "This lab demonstrates how to use **LiteLLM** as a unified interface to access **AWS Bedrock** models (specifically Claude 3.5 Sonnet) with **Airbnb MCP server** for property search and booking research.\n",
    "\n",
    "## Key Benefits:\n",
    "- 🔄 **Unified API**: LiteLLM provides OpenAI-compatible interface for 100+ models\n",
    "- 💰 **Cost Effective**: AWS Bedrock often 60-70% cheaper than OpenAI\n",
    "- 🔒 **Privacy**: Data stays in your AWS account\n",
    "- 🏠 **Airbnb Integration**: Search properties and get detailed listing information\n",
    "- 🌍 **Regional**: Using EU region models\n",
    "\n",
    "## Setup Required:\n",
    "1. **AWS credentials** with Bedrock access\n",
    "2. **Claude 3.5 Sonnet** model access in AWS Bedrock\n",
    "3. **Node.js** and npm/npx for MCP servers\n",
    "4. **Airbnb MCP server** - Clone and build:\n",
    "   ```bash\n",
    "   git clone https://github.com/openbnb-org/mcp-server-airbnb.git\n",
    "   cd mcp-server-airbnb\n",
    "   npm install\n",
    "   npm run build\n",
    "   ```\n",
    "\n",
    "## Prerequisites Check:\n",
    "- Verify Node.js is installed: `node --version`\n",
    "- Verify npm is available: `npm --version`\n",
    "- Verify npx is available: `npx --version`\n",
    "\n",
    "If Node.js is not installed, please install it from [nodejs.org](https://nodejs.org/) before proceeding.\n",
    "\n",
    "## Important Note - Robots.txt:\n",
    "This lab uses the `--ignore-robots-txt` flag to bypass Airbnb's robots.txt restrictions for **educational testing purposes only**. The MCP server respects robots.txt by default as an ethical web scraping practice. \n",
    "\n",
    "⚠️ **Please use responsibly and respect website terms of service and rate limits.**"
   ]
  },
  {
   "cell_type": "markdown",
   "metadata": {},
   "source": [
    "## Import Required Libraries"
   ]
  },
  {
   "cell_type": "code",
   "execution_count": null,
   "metadata": {},
   "outputs": [],
   "source": [
    "# Import required libraries and AWS utilities\n",
    "import asyncio\n",
    "import os\n",
    "from agents import Agent, Runner, trace, set_tracing_disabled\n",
    "from agents.mcp import MCPServerStdio\n",
    "\n",
    "# Import AWS utilities from common module\n",
    "import sys\n",
    "sys.path.append('..')\n",
    "from aws_utils import setup_aws_credentials, test_bedrock_connectivity\n",
    "\n",
    "# Disable OpenAI tracing since we're using Bedrock\n",
    "set_tracing_disabled(True)\n",
    "print(\"🚫 OpenAI tracing disabled (using Bedrock instead)\")"
   ]
  },
  {
   "cell_type": "code",
   "execution_count": null,
   "metadata": {},
   "outputs": [],
   "source": [
    "# Set up AWS credentials and test Bedrock connectivity\n",
    "aws_access_key, aws_secret_key, aws_session_token, aws_region = setup_aws_credentials('eu-west-1')\n",
    "\n",
    "# Model configuration\n",
    "model_id = \"eu.anthropic.claude-3-5-sonnet-20240620-v1:0\"\n",
    "print(f\"\\n🤖 Using model: {model_id}\")\n",
    "\n",
    "# Test Bedrock connectivity if credentials were retrieved\n",
    "if aws_access_key:\n",
    "    test_bedrock_connectivity(aws_access_key, aws_secret_key, aws_session_token, aws_region, model_id)\n",
    "else:\n",
    "    print(\"⚠️ Skipping Bedrock connectivity test due to missing credentials\")"
   ]
  },
  {
   "cell_type": "code",
   "execution_count": null,
   "metadata": {},
   "outputs": [],
   "source": [
    "# Set up MCP server configurations\n",
    "\n",
    "# 🚨 IMPORTANT: Update the path below to point to your local mcp-server-airbnb directory\n",
    "# \n",
    "# Step 1: Clone the Airbnb MCP server repository:\n",
    "#   git clone https://github.com/openbnb-org/mcp-server-airbnb.git\n",
    "# \n",
    "# Step 2: Build the server:\n",
    "#   cd mcp-server-airbnb && npm install && npm run build\n",
    "#\n",
    "# Step 3: Update the path below to match your local setup:\n",
    "\n",
    "airbnb_server_path = \"/Users/yongqiwu/code/mcp-server-airbnb\"  # ⚠️ UPDATE THIS PATH!\n",
    "\n",
    "# Configure the MCP server parameters - using built version for reliability\n",
    "# Adding --ignore-robots-txt flag to bypass Airbnb's robots.txt restrictions for educational testing\n",
    "# NOTE: The server respects robots.txt by default as an ethical web scraping practice\n",
    "airbnb_params = {\"command\": \"node\", \"args\": [f\"{airbnb_server_path}/dist/index.js\", \"--ignore-robots-txt\"]}\n",
    "\n",
    "# Alternative: Use TypeScript source (requires tsx to be installed globally)\n",
    "# airbnb_params = {\"command\": \"npx\", \"args\": [\"-p\", airbnb_server_path, \"tsx\", f\"{airbnb_server_path}/index.ts\", \"--ignore-robots-txt\"]}\n",
    "\n",
    "print(f\"🏠 Airbnb MCP server path: {airbnb_server_path}\")\n",
    "print(\"🔧 MCP server configurations ready\")\n",
    "print(\"⚠️  Note: Using --ignore-robots-txt for educational testing only\")"
   ]
  },
  {
   "cell_type": "code",
   "execution_count": null,
   "metadata": {},
   "outputs": [],
   "source": [
    "# Test Airbnb MCP Server\n",
    "print(\"🏠 Testing Airbnb MCP Server...\")\n",
    "try:\n",
    "    async with MCPServerStdio(params=airbnb_params, client_session_timeout_seconds=60) as server:\n",
    "        airbnb_tools = await server.list_tools()\n",
    "    \n",
    "    print(\"✅ Airbnb MCP Server connected successfully!\")\n",
    "    print(\"🛠️ Airbnb tools available:\")\n",
    "    for tool in airbnb_tools:\n",
    "        print(f\"  - {tool.name}: {tool.description}\")\n",
    "        \n",
    "except Exception as e:\n",
    "    print(f\"❌ Failed to connect to Airbnb MCP server: {e}\")\n",
    "    print(\"   Make sure the server is built and dependencies are installed\")\n",
    "    print(f\"   Try running: cd {airbnb_server_path} && npm install && npm run build\")"
   ]
  },
  {
   "cell_type": "code",
   "execution_count": null,
   "metadata": {},
   "outputs": [],
   "source": []
  },
  {
   "cell_type": "markdown",
   "metadata": {},
   "source": [
    "## Run the Agent Task\n",
    "\n",
    "Let's create an agent that can search for Airbnb properties using **Claude 3.5 Sonnet via AWS Bedrock**:"
   ]
  },
  {
   "cell_type": "code",
   "execution_count": null,
   "metadata": {},
   "outputs": [],
   "source": [
    "# Main agent execution\n",
    "async def run_airbnb_agent(query):\n",
    "    \"\"\"Run the Airbnb agent with proper MCP server context management.\"\"\"\n",
    "    \n",
    "    # Start Airbnb MCP server\n",
    "    async with MCPServerStdio(params=airbnb_params, client_session_timeout_seconds=60) as mcp_server_airbnb:\n",
    "        print(\"✅ Airbnb MCP server connected\")\n",
    "        \n",
    "        # Create agent with Airbnb server\n",
    "        agent = Agent(\n",
    "            name=\"airbnb_assistant\", \n",
    "            instructions=instructions, \n",
    "            model=f\"litellm/bedrock/{model_id}\",\n",
    "            mcp_servers=[mcp_server_airbnb]\n",
    "        )\n",
    "        \n",
    "        print(\"🤖 Agent created with Claude 3.5 Sonnet via AWS Bedrock\")\n",
    "        print(f\"📝 Task: {query}\")\n",
    "        \n",
    "        # Run the task within the MCP server context\n",
    "        result = await Runner.run(agent, query)\n",
    "        \n",
    "        print(\"\\n\" + \"=\"*50)\n",
    "        print(\"✅ TASK COMPLETED!\")\n",
    "        print(\"=\"*50)\n",
    "        print(result.final_output)\n",
    "        \n",
    "        return result\n",
    "\n",
    "# Example query\n",
    "sample_query = \"Find me a nice Airbnb in Paris for 2 adults from September 15-20, 2025. Budget around $100-200 per night.\"\n",
    "print(f\"🔍 Sample query: {sample_query}\")"
   ]
  },
  {
   "cell_type": "code",
   "execution_count": 20,
   "metadata": {},
   "outputs": [
    {
     "name": "stdout",
     "output_type": "stream",
     "text": [
      "✅ Airbnb MCP server connected\n",
      "🔧 Airbnb tools available: ['airbnb_search', 'airbnb_listing_details']\n",
      "✅ Filesystem MCP server connected\n",
      "🔍 Checking agent tools...\n",
      "⚠️ Could not check agent tools: RunContextWrapper.__init__() missing 1 required positional argument: 'context'\n",
      "🤖 Agent created with Claude 3.5 Sonnet via AWS Bedrock\n",
      "📝 Task: Find me a nice Airbnb in Paris for 2 adults from September 15-20, 2025. Budget around $100-200 per night.\n",
      "\n",
      "==================================================\n",
      "✅ TASK COMPLETED!\n",
      "==================================================\n",
      "Based on the search results, I've found several nice Airbnb options in Paris that fit your criteria for 2 adults from September 15-20, 2025, with a budget of $100-200 per night. Here are some of the best options:\n",
      "\n",
      "1. Studio with terrace near the center of Paris\n",
      "   - Price: $706 SGD (approximately $526 USD) for 5 nights\n",
      "   - Rating: 4.85/5 (269 reviews)\n",
      "   - Features: 1 queen bed, terrace\n",
      "   - Link: https://www.airbnb.com/rooms/30485598\n",
      "\n",
      "2. Charming Parisian studio\n",
      "   - Price: $993 SGD (approximately $740 USD) for 5 nights\n",
      "   - Rating: 4.86/5 (138 reviews)\n",
      "   - Features: 1 bed\n",
      "   - Link: https://www.airbnb.com/rooms/16091710\n",
      "\n",
      "3. Studio neuf & calme near PARIS\n",
      "   - Price: $721 SGD (approximately $537 USD) for 5 nights\n",
      "   - Rating: 4.94/5 (35 reviews)\n",
      "   - Features: 1 bed\n",
      "   - Link: https://www.airbnb.com/rooms/1352347059163898197\n",
      "\n",
      "4. Le Petit Audonien - 2 rooms\n",
      "   - Price: $803 SGD (approximately $598 USD) for 5 nights\n",
      "   - Rating: 4.93/5 (61 reviews)\n",
      "   - Features: 1 queen bed\n",
      "   - Link: https://www.airbnb.com/rooms/1130286300232925935\n",
      "\n",
      "5. Nice garden studio near Paris\n",
      "   - Price: $624 SGD (approximately $465 USD) for 5 nights\n",
      "   - Rating: 4.9/5 (70 reviews)\n",
      "   - Features: 1 queen bed, garden\n",
      "   - Link: https://www.airbnb.com/rooms/1140953506369449994\n",
      "\n",
      "These options all fall within your budget range and have excellent ratings. The prices are for the entire stay (5 nights) and are within or below your budget of $100-200 per night.\n",
      "\n",
      "Would you like more information about any of these specific listings? Or would you prefer to see more options? I can provide more details or search for additional properties if needed.\n"
     ]
    }
   ],
   "source": [
    "# Run the agent with the sample query\n",
    "result = await run_airbnb_agent(sample_query)"
   ]
  },
  {
   "cell_type": "markdown",
   "metadata": {},
   "source": []
  },
  {
   "cell_type": "code",
   "execution_count": null,
   "metadata": {},
   "outputs": [],
   "source": []
  },
  {
   "cell_type": "code",
   "execution_count": null,
   "metadata": {},
   "outputs": [],
   "source": []
  },
  {
   "cell_type": "markdown",
   "metadata": {},
   "source": []
  },
  {
   "cell_type": "code",
   "execution_count": null,
   "metadata": {},
   "outputs": [],
   "source": []
  }
 ],
 "metadata": {
  "kernelspec": {
   "display_name": "agents",
   "language": "python",
   "name": "python3"
  },
  "language_info": {
   "codemirror_mode": {
    "name": "ipython",
    "version": 3
   },
   "file_extension": ".py",
   "mimetype": "text/x-python",
   "name": "python",
   "nbconvert_exporter": "python",
   "pygments_lexer": "ipython3",
   "version": "3.12.8"
  }
 },
 "nbformat": 4,
 "nbformat_minor": 4
}